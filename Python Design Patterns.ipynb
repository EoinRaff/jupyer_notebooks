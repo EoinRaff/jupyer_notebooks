{
 "cells": [
  {
   "cell_type": "markdown",
   "metadata": {},
   "source": [
    "# MED8 ADSSE - Design Patterns\n",
    "\n",
    "For a more comprehensive resource on design patterns in general, and specific examples in multiple languages including python, please check out [this resource](https://refactoring.guru/design-patterns/python)"
   ]
  },
  {
   "cell_type": "markdown",
   "metadata": {},
   "source": [
    "## Singleton\n",
    "Despite being one of the original Group of Four design patterns, the Singleton is declining in popularity. Many developers consider it an \"anti-pattern\", as it is often used in a way that flys in the face of SOLID principles. However the issue lies not necessarily with the singleton itself, but rather with the way in which it is used."
   ]
  },
  {
   "cell_type": "markdown",
   "metadata": {},
   "source": [
    "Below is a simple implementation of a Singleton. This is a class which contains a variable ```__instance``` (note the meaning of the leading ```__``` is somewhat complicated, read about underscores in Python [here](https://dbader.org/blog/meaning-of-underscores-in-python)). This is functionally similar to a private variable.\n",
    "\n",
    "The ```getInstance()``` method checks if ```__instance``` has already been assigned. If not, it will call the constructor. This is the core principal of the Singleton, as it is responsible for calling its own constructor, and limits itself to one instance.\n",
    "\n",
    "Note that this is a simple implementation, and is not threadsafe. In a multithread environment it would be possible to create multiple instances of this singleton, so more checks and use of locks would be needed."
   ]
  },
  {
   "cell_type": "code",
   "execution_count": 32,
   "metadata": {},
   "outputs": [],
   "source": [
    "class Singleton():\n",
    "    __instance = None\n",
    "    \n",
    "    @staticmethod\n",
    "    def getInstance():\n",
    "        if Singleton.__instance == None:\n",
    "            Singleton()\n",
    "        return Singleton.__instance\n",
    "    \n",
    "    def __init__(self):\n",
    "        if Singleton.__instance != None:\n",
    "            raise Exception(\"Singleton cannot have more than one instance\")\n",
    "        else:\n",
    "            Singleton.__instance = self\n"
   ]
  },
  {
   "cell_type": "code",
   "execution_count": 33,
   "metadata": {},
   "outputs": [
    {
     "name": "stdout",
     "output_type": "stream",
     "text": [
      "Singleton works, both variables contain the same instance.\n"
     ]
    }
   ],
   "source": [
    "    s1 = Singleton.getInstance()\n",
    "    s2 = Singleton.getInstance()\n",
    "\n",
    "    if id(s1) == id(s2):\n",
    "        print(\"Singleton works, both variables contain the same instance.\")\n",
    "    else:\n",
    "        print(\"Singleton failed, variables contain different instances.\")"
   ]
  },
  {
   "cell_type": "markdown",
   "metadata": {},
   "source": [
    "As we can see, despite making two objects of the Singleton class, s1 and s2, they are the same instance of the class.\n",
    "\n",
    "We can make this a bit more explicit by creating a new type of singleton with some functionality. The new class ```CounterSingleton``` uses the same logic as before, but also includes an integer value, an accesor method, and a method which simply increments the value."
   ]
  },
  {
   "cell_type": "code",
   "execution_count": 34,
   "metadata": {},
   "outputs": [],
   "source": [
    "class CounterSingleton():\n",
    "    \n",
    "    __instance = None\n",
    "    __value = 0\n",
    "    \n",
    "    @staticmethod\n",
    "    def getInstance():\n",
    "        if CounterSingleton.__instance == None:\n",
    "            CounterSingleton()\n",
    "        return CounterSingleton.__instance\n",
    "    \n",
    "    def __init__(self):\n",
    "        if CounterSingleton.__instance != None:\n",
    "            raise Exception(\"Singleton cannot have more than one instance\")\n",
    "        else:\n",
    "            CounterSingleton.__instance = self  \n",
    "            __value = 0\n",
    "\n",
    "    # Expanding on the previous Singleton with a s\n",
    "    @property\n",
    "    def value(self):\n",
    "        return self.__value\n",
    "    \n",
    "    def count(self):\n",
    "        self.__value = self.__value + 1"
   ]
  },
  {
   "cell_type": "markdown",
   "metadata": {},
   "source": [
    "Once more, we will test the basic funcitonality and ensure that this singleton is successfully limited to one instance, by creating two objects."
   ]
  },
  {
   "cell_type": "code",
   "execution_count": 35,
   "metadata": {},
   "outputs": [
    {
     "name": "stdout",
     "output_type": "stream",
     "text": [
      "Singleton works, both variables contain the same instance.\n"
     ]
    }
   ],
   "source": [
    "c1 = CounterSingleton.getInstance()\n",
    "c2 = CounterSingleton.getInstance()\n",
    "\n",
    "if id(c1) == id(c2):\n",
    "    print(\"Singleton works, both variables contain the same instance.\")\n",
    "else:\n",
    "    print(\"Singleton failed, variables contain different instances.\")"
   ]
  },
  {
   "cell_type": "markdown",
   "metadata": {},
   "source": [
    "Let's try see the effect of having just one instance, by using one of these objects to print the value, and the other one to count."
   ]
  },
  {
   "cell_type": "code",
   "execution_count": 36,
   "metadata": {},
   "outputs": [
    {
     "name": "stdout",
     "output_type": "stream",
     "text": [
      "c1 starting value: 0\n",
      "c1 value after c2.count(): 1\n"
     ]
    }
   ],
   "source": [
    "print(\"c1 starting value: \" + str(c1.value))\n",
    "c2.count()\n",
    "print(\"c1 value after c2.count(): \" + str(c1.value))"
   ]
  },
  {
   "cell_type": "markdown",
   "metadata": {},
   "source": [
    "Going further, since ```getInstance``` is a static method, we don't need to create an object to use the functionality. Here we access the value directly from the singleton class and store it in a varaible ```x```. Note that this value no longer changes when using the ```count()``` method, since it is stored in ```x``` and not in ```__value```."
   ]
  },
  {
   "cell_type": "code",
   "execution_count": 37,
   "metadata": {},
   "outputs": [
    {
     "name": "stdout",
     "output_type": "stream",
     "text": [
      "1\n",
      "2\n"
     ]
    }
   ],
   "source": [
    "x = CounterSingleton.getInstance().value\n",
    "CounterSingleton.getInstance().count()\n",
    "print(x)\n",
    "print(CounterSingleton.getInstance().value)"
   ]
  },
  {
   "cell_type": "markdown",
   "metadata": {},
   "source": [
    "## a note on the use of the _dunder_ for encapsulation\n",
    "As mentioned above, the _dunder_ (double underscore, ```__```) prefix acts functionally as a private variable, as attributes with this prefix cannot be accessed directly. The code in the following block throws an attribute error, because it cannot find the ```__instance``` attribute."
   ]
  },
  {
   "cell_type": "code",
   "execution_count": 7,
   "metadata": {
    "scrolled": true
   },
   "outputs": [
    {
     "ename": "AttributeError",
     "evalue": "'Singleton' object has no attribute '__instance'",
     "output_type": "error",
     "traceback": [
      "\u001b[1;31m---------------------------------------------------------------------------\u001b[0m",
      "\u001b[1;31mAttributeError\u001b[0m                            Traceback (most recent call last)",
      "\u001b[1;32m<ipython-input-7-a43becc9d99b>\u001b[0m in \u001b[0;36m<module>\u001b[1;34m\u001b[0m\n\u001b[1;32m----> 1\u001b[1;33m \u001b[0mprint\u001b[0m\u001b[1;33m(\u001b[0m\u001b[0ms1\u001b[0m\u001b[1;33m.\u001b[0m\u001b[0m__instance\u001b[0m\u001b[1;33m)\u001b[0m\u001b[1;33m\u001b[0m\u001b[1;33m\u001b[0m\u001b[0m\n\u001b[0m",
      "\u001b[1;31mAttributeError\u001b[0m: 'Singleton' object has no attribute '__instance'"
     ]
    }
   ],
   "source": [
    "print(s1.__instance)\n"
   ]
  },
  {
   "cell_type": "markdown",
   "metadata": {},
   "source": [
    "However, don't assume that this is the same as private encapsulation. Notice that the error says ```'Singleton' object has no attribute '__instance'```, rather than saying that it is inaccesible. This is because it is not private, but rather the dunder has flagged it to be renamed based on the class. This is known as _name mangling_. The attribute exists, but instead of being called ```.__attribute``` it is called  ```._classname__attribute```:"
   ]
  },
  {
   "cell_type": "code",
   "execution_count": 8,
   "metadata": {},
   "outputs": [
    {
     "name": "stdout",
     "output_type": "stream",
     "text": [
      "<__main__.Singleton object at 0x064B26D0>\n"
     ]
    }
   ],
   "source": [
    "print(s1._Singleton__instance)"
   ]
  },
  {
   "cell_type": "markdown",
   "metadata": {},
   "source": [
    "## Observer\n",
    "\n"
   ]
  },
  {
   "cell_type": "code",
   "execution_count": null,
   "metadata": {},
   "outputs": [],
   "source": []
  },
  {
   "cell_type": "markdown",
   "metadata": {},
   "source": [
    "In other languages such as Java or C#, this pattern is mostly implemented using Interfaces. In this python implementation, the interfaces are replaces with the abstract base classes (ABCs) ```Subject``` and ```Observer```."
   ]
  },
  {
   "cell_type": "code",
   "execution_count": 22,
   "metadata": {},
   "outputs": [],
   "source": [
    "from abc import ABC, abstractmethod\n",
    "from random import randrange\n",
    "from typing import List\n",
    "\n",
    "\n",
    "class Subject(ABC):\n",
    "    \"\"\"\n",
    "    The Subject interface declares a set of methods for managing subscribers.\n",
    "    \"\"\"\n",
    "\n",
    "    @abstractmethod\n",
    "    def attach(self, observer: Observer):\n",
    "        \"\"\"\n",
    "        Attach an observer to the subject.\n",
    "        \"\"\"\n",
    "        pass\n",
    "\n",
    "    @abstractmethod\n",
    "    def detach(self, observer: Observer):\n",
    "        \"\"\"\n",
    "        Detach an observer from the subject.\n",
    "        \"\"\"\n",
    "        pass\n",
    "\n",
    "    @abstractmethod\n",
    "    def notify(self):\n",
    "        \"\"\"\n",
    "        Notify all observers about an event.\n",
    "        \"\"\"\n",
    "        pass\n",
    "\n",
    "class Observer(ABC):\n",
    "    \"\"\"\n",
    "    The Observer interface declares the update method, used by subjects.\n",
    "    \"\"\"\n",
    "\n",
    "    @abstractmethod\n",
    "    def update(self, subject: Subject):\n",
    "        \"\"\"\n",
    "        Receive update from subject.\n",
    "        \"\"\"\n",
    "        pass\n"
   ]
  },
  {
   "cell_type": "markdown",
   "metadata": {},
   "source": [
    "A ```ConcreteSubject``` is using the ABC. Since python supports multi-inheritance, this is equivalent to implementing an interface, and the subject may inheret from other base classes too.\n",
    "\n",
    "For the purpose of this example, the ```ConcreteSubject``` has a ```_state``` attribute, which represents the data that the observers are interested in. This could be player health in a game for example, or content for a mailing list. We are using just a simple integer value, but it could be a much more complex set of data.\n",
    "\n",
    "The key functionality of the Observer pattern here is the implemetnation of the functions from the interface, ```attach()```, ```detach()```, and ```notify```, as well as the list of observers.\n",
    "\n",
    "The ```some_business_logic``` function is an example of the subject's behaviour, and is simply used to change the ```_state_``` and to determine when ```notify``` is called."
   ]
  },
  {
   "cell_type": "code",
   "execution_count": 23,
   "metadata": {},
   "outputs": [],
   "source": [
    "class ConcreteSubject(Subject):\n",
    "    \"\"\"\n",
    "    The Subject owns some important state and notifies observers when the state\n",
    "    changes.\n",
    "    \"\"\"\n",
    "\n",
    "    _state: int = None\n",
    "    \"\"\"\n",
    "    For the sake of simplicity, the Subject's state, essential to all\n",
    "    subscribers, is stored in this variable.\n",
    "    \"\"\"\n",
    "\n",
    "    _observers: List[Observer] = []\n",
    "    \"\"\"\n",
    "    List of subscribers. In real life, the list of subscribers can be stored\n",
    "    more comprehensively (categorized by event type, etc.).\n",
    "    \"\"\"\n",
    "\n",
    "    def attach(self, observer: Observer):\n",
    "        print(\"Subject: Attached an observer.\")\n",
    "        self._observers.append(observer)\n",
    "\n",
    "    def detach(self, observer: Observer):\n",
    "        self._observers.remove(observer)\n",
    "\n",
    "    \"\"\"\n",
    "    The subscription management methods.\n",
    "    \"\"\"\n",
    "\n",
    "    def notify(self) -> None:\n",
    "        \"\"\"\n",
    "        Trigger an update in each subscriber.\n",
    "        \"\"\"\n",
    "\n",
    "        print(\"Subject: Notifying observers...\")\n",
    "        for observer in self._observers:\n",
    "            observer.update(self)\n",
    "\n",
    "    def some_business_logic(self):\n",
    "        \"\"\"\n",
    "        Usually, the subscription logic is only a fraction of what a Subject can\n",
    "        really do. Subjects commonly hold some important business logic, that\n",
    "        triggers a notification method whenever something important is about to\n",
    "        happen (or after it).\n",
    "        \"\"\"\n",
    "\n",
    "        print(\"\\nSubject: I'm doing something important.\")\n",
    "        self._state = randrange(0, 10)\n",
    "\n",
    "        print(f\"Subject: My state has just changed to: {self._state}\")\n",
    "        self.notify()\n"
   ]
  },
  {
   "cell_type": "markdown",
   "metadata": {},
   "source": [
    "Similarly, a number of classes are created using the Observer interface. They the exact contents of the ```update``` method will vary from each observer, but the key element here is that when the subject calls ```notify```, all observers in the list will have their ```update``` methods called. "
   ]
  },
  {
   "cell_type": "code",
   "execution_count": 24,
   "metadata": {},
   "outputs": [
    {
     "name": "stdout",
     "output_type": "stream",
     "text": [
      "Subject: Attached an observer.\n",
      "Subject: Attached an observer.\n",
      "\n",
      "Subject: I'm doing something important.\n",
      "Subject: My state has just changed to: 5\n",
      "Subject: Notifying observers...\n",
      "ConcreteObserverB: Reacted to the event\n",
      "\n",
      "Subject: I'm doing something important.\n",
      "Subject: My state has just changed to: 3\n",
      "Subject: Notifying observers...\n",
      "ConcreteObserverB: Reacted to the event\n",
      "\n",
      "Subject: I'm doing something important.\n",
      "Subject: My state has just changed to: 5\n",
      "Subject: Notifying observers...\n",
      "ConcreteObserverB: Reacted to the event\n"
     ]
    }
   ],
   "source": [
    "class ConcreteObserverA(Observer):\n",
    "    def update(self, subject: Subject):\n",
    "        if subject._state < 3:\n",
    "            print(\"ConcreteObserverA: Reacted to the event\")\n",
    "\n",
    "\n",
    "class ConcreteObserverB(Observer):\n",
    "    def update(self, subject: Subject):\n",
    "        if subject._state == 0 or subject._state >= 2:\n",
    "            print(\"ConcreteObserverB: Reacted to the event\")\n",
    "\n",
    "\n",
    "if __name__ == \"__main__\":\n",
    "    # The client code.\n",
    "\n",
    "    subject = ConcreteSubject()\n",
    "\n",
    "    observer_a = ConcreteObserverA()\n",
    "    subject.attach(observer_a)\n",
    "\n",
    "    observer_b = ConcreteObserverB()\n",
    "    subject.attach(observer_b)\n",
    "\n",
    "    subject.some_business_logic()\n",
    "    subject.some_business_logic()\n",
    "\n",
    "    subject.detach(observer_a)\n",
    "\n",
    "    subject.some_business_logic()"
   ]
  },
  {
   "cell_type": "markdown",
   "metadata": {},
   "source": [
    "Let's try the same thing with a game example. Here we will make ```PlayerHealth``` into the subject, and other systems such as the ```AudioManager```, ```VisualEffects```, and ```EnemyAI``` will all act as observers. The subject will send a notification to all observers when it takes damage. Each of them will have their own behaviour based on what they are interested in doing with the notification."
   ]
  },
  {
   "cell_type": "code",
   "execution_count": 31,
   "metadata": {},
   "outputs": [
    {
     "name": "stdout",
     "output_type": "stream",
     "text": [
      ">>>Player took 10 damage\n",
      "Audio: Play regular ambiance\n",
      "VFX: Set blood splatter strength to 10\n",
      "Enemies: Become aggressive\n",
      ">>>Player took 20 damage\n",
      "Audio: Play regular ambiance\n",
      "VFX: Set blood splatter strength to 30\n",
      "Enemies: Become aggressive\n",
      ">>>Player took 40 damage\n",
      "Audio: Play low health sfx\n",
      "VFX: Set blood splatter strength to 70\n",
      "Enemies: Stop attacking\n",
      ">>>Player took 40 damage\n",
      "Audio: Play death sfx\n",
      "VFX: Show death screen\n",
      "Enemies: Celebrate victory\n"
     ]
    }
   ],
   "source": [
    "class PlayerHealth(Subject):\n",
    "    _health: int\n",
    "    _is_alive: bool\n",
    "    \n",
    "    def __init__(self):\n",
    "        self._health = 100\n",
    "        self._is_alive = True\n",
    "\n",
    "    _observers: List[Observer] = []\n",
    "\n",
    "    def attach(self, observer: Observer):\n",
    "        self._observers.append(observer)\n",
    "\n",
    "    def detach(self, observer: Observer):\n",
    "        self._observers.remove(observer)\n",
    "\n",
    "    def notify(self):\n",
    "        for observer in self._observers:\n",
    "            observer.update(self)\n",
    "\n",
    "    def take_damage(self, damage):\n",
    "\n",
    "\n",
    "        print(\">>>Player took \" + str(damage) + \" damage\")\n",
    "        self._health = self._health - damage\n",
    "        if(self._health < 0):\n",
    "            self._is_alive = False\n",
    "\n",
    "        self.notify()\n",
    "\n",
    "class AudioManager(Observer):\n",
    "    def update(self, subject: Subject):\n",
    "        if not subject._is_alive:\n",
    "            print(\"Audio: Play death sfx\")\n",
    "        elif subject._health < 50:\n",
    "            print(\"Audio: Play low health sfx\")\n",
    "        else:\n",
    "            print(\"Audio: Play regular ambiance\")\n",
    "                \n",
    "class VisualEffects(Observer):\n",
    "    def update(self, subject: Subject):\n",
    "        if subject._is_alive:\n",
    "            print(\"VFX: Set blood splatter strength to \" + str(100-subject._health))\n",
    "        else:\n",
    "            print(\"VFX: Show death screen\")\n",
    "\n",
    "class EnemyAI(Observer):\n",
    "    def update(self, subject:Subject):\n",
    "        if not subject._is_alive:\n",
    "            print(\"Enemies: Celebrate victory\")\n",
    "        elif subject._health < 40:\n",
    "            print(\"Enemies: Stop attacking\")\n",
    "        else:\n",
    "            print(\"Enemies: Become aggressive\")\n",
    " \n",
    "\n",
    "if __name__ == \"__main__\":\n",
    "    # The client code.\n",
    "\n",
    "    playerHealth = PlayerHealth()\n",
    "\n",
    "    sfx = AudioManager()\n",
    "    playerHealth.attach(sfx)\n",
    "\n",
    "    vfx = VisualEffects()\n",
    "    playerHealth.attach(vfx)\n",
    "\n",
    "    enemies = EnemyAI()\n",
    "    playerHealth.attach(enemies)\n",
    "    \n",
    "    playerHealth.take_damage(10)\n",
    "\n",
    "    playerHealth.take_damage(20)\n",
    "    playerHealth.take_damage(40)\n",
    "    playerHealth.take_damage(40)\n"
   ]
  },
  {
   "cell_type": "code",
   "execution_count": null,
   "metadata": {},
   "outputs": [],
   "source": []
  }
 ],
 "metadata": {
  "kernelspec": {
   "display_name": "Python 3",
   "language": "python",
   "name": "python3"
  },
  "language_info": {
   "codemirror_mode": {
    "name": "ipython",
    "version": 3
   },
   "file_extension": ".py",
   "mimetype": "text/x-python",
   "name": "python",
   "nbconvert_exporter": "python",
   "pygments_lexer": "ipython3",
   "version": "3.7.3"
  }
 },
 "nbformat": 4,
 "nbformat_minor": 2
}
